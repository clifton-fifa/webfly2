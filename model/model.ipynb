{
 "cells": [
  {
   "cell_type": "markdown",
   "metadata": {},
   "source": [
    "# Model Predict Fly"
   ]
  },
  {
   "cell_type": "code",
   "execution_count": 49,
   "metadata": {
    "metadata": {}
   },
   "outputs": [],
   "source": [
    "import pandas as pd\n",
    "from sklearn.model_selection import train_test_split\n",
    "from sklearn.tree import DecisionTreeClassifier\n",
    "from sklearn.metrics import accuracy_score, classification_report\n",
    "import joblib\n",
    "\n",
    "# Load data\n",
    "df = pd.read_excel(r\"C:\\Users\\Admin\\Downloads\\flyweb\\dataset\\Trained-group.xlsx\")\n",
    "df = df.drop(columns=['ID'])\n",
    "selected_columns = ['a(1-2)', 'b(2-3)', 'c(3-4)', 'd(4-5)', 'e(6-7)', 'f(7-10)', 'g(9-10)', 'h(9-15)', 'i(15-16)',\n",
    "                    'j(14-15)', 'k(13-14)', 'l(13-17)', 'm(17-18)', 'n(1-18)', 'o(2-13)', 'p(3-12)', 'q(12-13)',\n",
    "                    'r(5-12)', 's(11-14)', 't(8-11)', 'u(7-8)', 'v(8-9)', 'w(11-12)']\n",
    "X = df[selected_columns]\n",
    "y_family = df['Family']\n",
    "y_species = df['Species']\n"
   ]
  },
  {
   "cell_type": "code",
   "execution_count": 50,
   "metadata": {
    "metadata": {}
   },
   "outputs": [
    {
     "name": "stdout",
     "output_type": "stream",
     "text": [
      "Family Model Accuracy: 0.9951338199513382\n",
      "Family Model Classification Report:\n",
      "               precision    recall  f1-score   support\n",
      "\n",
      "Calliphoridae       0.99      1.00      1.00       298\n",
      "     Muscidae       1.00      1.00      1.00        54\n",
      "Sarcophagidae       1.00      0.97      0.98        59\n",
      "\n",
      "     accuracy                           1.00       411\n",
      "    macro avg       1.00      0.99      0.99       411\n",
      " weighted avg       1.00      1.00      1.00       411\n",
      "\n"
     ]
    }
   ],
   "source": [
    "# Train-test split for Family\n",
    "X_train_family, X_test_family, y_train_family, y_test_family = train_test_split(X, y_family, test_size=0.2, random_state=42)\n",
    "\n",
    "# Train Family model\n",
    "family_model = DecisionTreeClassifier()\n",
    "family_model.fit(X_train_family, y_train_family)\n",
    "\n",
    "# Evaluate Family model\n",
    "y_pred_family = family_model.predict(X_test_family)\n",
    "family_accuracy = accuracy_score(y_test_family, y_pred_family)\n",
    "family_report = classification_report(y_test_family, y_pred_family)\n",
    "\n",
    "print(f\"Family Model Accuracy: {family_accuracy}\")\n",
    "print(f\"Family Model Classification Report:\\n{family_report}\")\n"
   ]
  },
  {
   "cell_type": "code",
   "execution_count": 51,
   "metadata": {
    "metadata": {}
   },
   "outputs": [
    {
     "name": "stdout",
     "output_type": "stream",
     "text": [
      "Species Model Accuracy: 0.9683698296836983\n",
      "Species Model Classification Report:\n",
      "              precision    recall  f1-score   support\n",
      "\n",
      "          CM       0.93      0.92      0.93        76\n",
      "          CN       0.98      0.98      0.98        44\n",
      "          CR       0.95      0.94      0.94        77\n",
      "          HL       1.00      0.98      0.99        43\n",
      "          LC       0.95      1.00      0.97        58\n",
      "          MD       1.00      1.00      1.00        54\n",
      "          PD       1.00      1.00      1.00        59\n",
      "\n",
      "    accuracy                           0.97       411\n",
      "   macro avg       0.97      0.97      0.97       411\n",
      "weighted avg       0.97      0.97      0.97       411\n",
      "\n"
     ]
    }
   ],
   "source": [
    "# Train-test split for Species\n",
    "X_train_species, X_test_species, y_train_species, y_test_species = train_test_split(X, y_species, test_size=0.2, random_state=42)\n",
    "\n",
    "# Train Species model\n",
    "species_model = DecisionTreeClassifier()\n",
    "species_model.fit(X_train_species, y_train_species)\n",
    "\n",
    "# Evaluate Species model\n",
    "y_pred_species = species_model.predict(X_test_species)\n",
    "species_accuracy = accuracy_score(y_test_species, y_pred_species)\n",
    "species_report = classification_report(y_test_species, y_pred_species)\n",
    "\n",
    "print(f\"Species Model Accuracy: {species_accuracy}\")\n",
    "print(f\"Species Model Classification Report:\\n{species_report}\")\n"
   ]
  },
  {
   "cell_type": "code",
   "execution_count": 52,
   "metadata": {
    "metadata": {}
   },
   "outputs": [
    {
     "data": {
      "text/plain": [
       "['./species_model.pkl']"
      ]
     },
     "execution_count": 52,
     "metadata": {},
     "output_type": "execute_result"
    }
   ],
   "source": [
    "# Save models\n",
    "joblib.dump(family_model, './family_model.pkl')\n",
    "joblib.dump(species_model, './species_model.pkl')\n",
    "\n"
   ]
  },
  {
   "cell_type": "code",
   "execution_count": 53,
   "metadata": {
    "metadata": {}
   },
   "outputs": [],
   "source": [
    "# # Load models\n",
    "# loaded_family_model = joblib.load('./family_model.pkl')\n",
    "# loaded_species_model = joblib.load('./species_model.pkl')\n",
    "try:\n",
    "    loaded_family_model = joblib.load('./family_model.pkl')\n",
    "    loaded_species_model = joblib.load('./species_model.pkl')\n",
    "except Exception as e:\n",
    "    print(f\"Error loading models: {e}\")"
   ]
  },
  {
   "cell_type": "code",
   "execution_count": 54,
   "metadata": {
    "metadata": {}
   },
   "outputs": [
    {
     "name": "stdout",
     "output_type": "stream",
     "text": [
      "Loaded Family Model Accuracy: 0.9951338199513382\n",
      "Loaded Family Model Classification Report:\n",
      "               precision    recall  f1-score   support\n",
      "\n",
      "Calliphoridae       0.99      1.00      1.00       298\n",
      "     Muscidae       1.00      1.00      1.00        54\n",
      "Sarcophagidae       1.00      0.97      0.98        59\n",
      "\n",
      "     accuracy                           1.00       411\n",
      "    macro avg       1.00      0.99      0.99       411\n",
      " weighted avg       1.00      1.00      1.00       411\n",
      "\n",
      "Loaded Species Model Accuracy: 0.9683698296836983\n",
      "Loaded Species Model Classification Report:\n",
      "              precision    recall  f1-score   support\n",
      "\n",
      "          CM       0.93      0.92      0.93        76\n",
      "          CN       0.98      0.98      0.98        44\n",
      "          CR       0.95      0.94      0.94        77\n",
      "          HL       1.00      0.98      0.99        43\n",
      "          LC       0.95      1.00      0.97        58\n",
      "          MD       1.00      1.00      1.00        54\n",
      "          PD       1.00      1.00      1.00        59\n",
      "\n",
      "    accuracy                           0.97       411\n",
      "   macro avg       0.97      0.97      0.97       411\n",
      "weighted avg       0.97      0.97      0.97       411\n",
      "\n"
     ]
    }
   ],
   "source": [
    "# # Evaluate loaded Family model\n",
    "# y_pred_family_loaded = loaded_family_model.predict(X_test_family)\n",
    "# family_accuracy_loaded = accuracy_score(y_test_family, y_pred_family_loaded)\n",
    "# family_report_loaded = classification_report(y_test_family, y_pred_family_loaded)\n",
    "\n",
    "# print(f\"Loaded Family Model Accuracy: {family_accuracy_loaded}\")\n",
    "# print(f\"Loaded Family Model Classification Report:\\n{family_report_loaded}\")\n",
    "\n",
    "# # Evaluate loaded Species model\n",
    "# y_pred_species_loaded = loaded_species_model.predict(X_test_species)\n",
    "# species_accuracy_loaded = accuracy_score(y_test_species, y_pred_species_loaded)\n",
    "# species_report_loaded = classification_report(y_test_species, y_pred_species_loaded)\n",
    "\n",
    "# print(f\"Loaded Species Model Accuracy: {species_accuracy_loaded}\")\n",
    "# print(f\"Loaded Species Model Classification Report:\\n{species_report_loaded}\")\n",
    "try:\n",
    "    y_pred_family_loaded = loaded_family_model.predict(X_test_family)\n",
    "    family_accuracy_loaded = accuracy_score(y_test_family, y_pred_family_loaded)\n",
    "    family_report_loaded = classification_report(y_test_family, y_pred_family_loaded)\n",
    "\n",
    "    print(f\"Loaded Family Model Accuracy: {family_accuracy_loaded}\")\n",
    "    print(f\"Loaded Family Model Classification Report:\\n{family_report_loaded}\")\n",
    "except Exception as e:\n",
    "    print(f\"Error evaluating loaded Family model: {e}\")\n",
    "\n",
    "try:\n",
    "    y_pred_species_loaded = loaded_species_model.predict(X_test_species)\n",
    "    species_accuracy_loaded = accuracy_score(y_test_species, y_pred_species_loaded)\n",
    "    species_report_loaded = classification_report(y_test_species, y_pred_species_loaded)\n",
    "\n",
    "    print(f\"Loaded Species Model Accuracy: {species_accuracy_loaded}\")\n",
    "    print(f\"Loaded Species Model Classification Report:\\n{species_report_loaded}\")\n",
    "except Exception as e:\n",
    "    print(f\"Error evaluating loaded Species model: {e}\")\n"
   ]
  },
  {
   "cell_type": "code",
   "execution_count": 55,
   "metadata": {},
   "outputs": [],
   "source": [
    "# def predict_family(data):\n",
    "#     df = pd.DataFrame([data])\n",
    "#     prediction = loaded_family_model.predict(df[selected_columns])\n",
    "#     return prediction[0]\n",
    "\n",
    "# def predict_species(data):\n",
    "#     df = pd.DataFrame([data])\n",
    "#     prediction = loaded_species_model.predict(df[selected_columns])\n",
    "#     return prediction[0]\n",
    "def predict_family(data):\n",
    "    try:\n",
    "        df = pd.DataFrame([data])\n",
    "        prediction = loaded_family_model.predict(df[selected_columns])\n",
    "        return prediction[0]\n",
    "    except Exception as e:\n",
    "        print(f\"Error predicting family: {e}\")\n",
    "\n",
    "def predict_species(data):\n",
    "    try:\n",
    "        df = pd.DataFrame([data])\n",
    "        prediction = loaded_species_model.predict(df[selected_columns])\n",
    "        return prediction[0]\n",
    "    except Exception as e:\n",
    "        print(f\"Error predicting species: {e}\")\n"
   ]
  },
  {
   "cell_type": "code",
   "execution_count": 56,
   "metadata": {
    "metadata": {}
   },
   "outputs": [
    {
     "name": "stdout",
     "output_type": "stream",
     "text": [
      "Family Prediction: Calliphoridae\n",
      "Species Prediction: CN\n"
     ]
    }
   ],
   "source": [
    "# Example usage\n",
    "example_data = {\n",
    "    'a(1-2)': 691.063555,\n",
    "    'b(2-3)': 598.1629275,\n",
    "    'c(3-4)': 856.2703258,\n",
    "    'd(4-5)': 354.5031917,\n",
    "    'e(6-7)': 693.2883964,\n",
    "    'f(7-10)': 712.3995716,\n",
    "    'g(9-10)': 195.0163107,\n",
    "    'h(9-15)': 1095.056718,\n",
    "    'i(15-16)': 152.8634023,\n",
    "    'j(14-15)': 110.2030814,\n",
    "    'k(13-14)': 155.4525726,\n",
    "    'l(13-17)': 288.0950458,\n",
    "    'm(17-18)': 120.8545583,\n",
    "    'n(1-18)': 87.81670111,\n",
    "    'o(2-13)': 392.6492081,\n",
    "    'p(3-12)': 477.2795148,\n",
    "    'q(12-13)': 553.028334,\n",
    "    'r(5-12)': 1540.029156,\n",
    "    's(11-14)': 734.6208997,\n",
    "    't(8-11)': 674.3675247,\n",
    "    'u(7-8)': 321.8693324,\n",
    "    'v(8-9)': 516.7299805,\n",
    "    'w(11-12)': 117.8122709\n",
    "}\n",
    "\n",
    "family_prediction = predict_family(example_data)\n",
    "species_prediction = predict_species(example_data)\n",
    "\n",
    "print(f\"Family Prediction: {family_prediction}\")\n",
    "print(f\"Species Prediction: {species_prediction}\")\n"
   ]
  },
  {
   "cell_type": "code",
   "execution_count": null,
   "metadata": {},
   "outputs": [],
   "source": []
  }
 ],
 "metadata": {
  "kernelspec": {
   "display_name": "base",
   "language": "python",
   "name": "python3"
  },
  "language_info": {
   "codemirror_mode": {
    "name": "ipython",
    "version": 3
   },
   "file_extension": ".py",
   "mimetype": "text/x-python",
   "name": "python",
   "nbconvert_exporter": "python",
   "pygments_lexer": "ipython3",
   "version": "3.11.5"
  }
 },
 "nbformat": 4,
 "nbformat_minor": 2
}
